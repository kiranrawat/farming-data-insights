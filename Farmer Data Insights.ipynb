{
 "cells": [
  {
   "cell_type": "markdown",
   "metadata": {},
   "source": [
    "# Install Libraries\n",
    "\n",
    "- Install Pandas\n",
    "- Install matplotlib\n",
    "- Install seaborn"
   ]
  },
  {
   "cell_type": "markdown",
   "metadata": {},
   "source": [
    "# Farmer Data Insights"
   ]
  },
  {
   "cell_type": "markdown",
   "metadata": {},
   "source": [
    "**Task 1**: [Introduction](#Introduction)\n",
    "\n",
    "**Task 2**: [Exploratory Data Analysis and Preprocessing](#Exploratory-Data-Analysis-and-Preprocessing)\n",
    "\n",
    "**Task 3**: [Farmer's Question 1](#Farmer's-Question-1)\n",
    "\n",
    "**Task 4**: [Farmer's Question 2](#Farmer's-Question-2)\n",
    "\n",
    "**Task 5**: [Suggestion-to-Farmer](#Suggestion-to-Farmer)"
   ]
  },
  {
   "cell_type": "markdown",
   "metadata": {},
   "source": [
    "# Introduction"
   ]
  },
  {
   "cell_type": "markdown",
   "metadata": {},
   "source": [
    "We received the following data set from a farmer. They have planted multiple varieties in their field to determine if one variety outperforms another. The farmer has heard that some varieties may perform better in good soil (high productivity zones), while others have been bred to perform well in poorer soils (low productivity zones). \n",
    "\n",
    "The Farmer also tested 3 different fungicides (treatments) - all claiming to increase yields, but with different mechanisms. So the farmer sprayed strips of either one or a combination of the fungicides in different areas of the field to determine if there was any financial incentive to one (or one combo over another). \n",
    "\n",
    "Finally, at Deveron, we convinced the farmer to let us fly their field with a drone to capture NDVI values across their field. We told them we could gain insight on the relative health of their field from this data.\n",
    "\n",
    "Note: Yield is a typical response variable used to determine relative success of a variable (higher yield is desirable).\n",
    "\n",
    "Please use the test.csv data to address the farmers questions. Summarize your insights in a Python based Jupyter notebook and feel free to include any follow up questions you may have."
   ]
  },
  {
   "cell_type": "markdown",
   "metadata": {},
   "source": [
    "# Exploratory Data Analysis and Preprocessing"
   ]
  },
  {
   "cell_type": "code",
   "execution_count": 1,
   "metadata": {},
   "outputs": [],
   "source": [
    "import pandas as pd\n",
    "import matplotlib.pyplot as plt\n",
    "import seaborn as sns"
   ]
  },
  {
   "cell_type": "markdown",
   "metadata": {},
   "source": [
    "## Loading the Data"
   ]
  },
  {
   "cell_type": "code",
   "execution_count": 2,
   "metadata": {},
   "outputs": [],
   "source": [
    "config = {}\n",
    "config['agro_data_path'] = 'test.csv'"
   ]
  },
  {
   "cell_type": "code",
   "execution_count": 3,
   "metadata": {},
   "outputs": [
    {
     "data": {
      "text/html": [
       "<div>\n",
       "<style scoped>\n",
       "    .dataframe tbody tr th:only-of-type {\n",
       "        vertical-align: middle;\n",
       "    }\n",
       "\n",
       "    .dataframe tbody tr th {\n",
       "        vertical-align: top;\n",
       "    }\n",
       "\n",
       "    .dataframe thead th {\n",
       "        text-align: right;\n",
       "    }\n",
       "</style>\n",
       "<table border=\"1\" class=\"dataframe\">\n",
       "  <thead>\n",
       "    <tr style=\"text-align: right;\">\n",
       "      <th></th>\n",
       "      <th>Yield</th>\n",
       "      <th>Treatment</th>\n",
       "      <th>Productivity Zone</th>\n",
       "      <th>Area</th>\n",
       "      <th>Variety</th>\n",
       "      <th>NDVI</th>\n",
       "    </tr>\n",
       "  </thead>\n",
       "  <tbody>\n",
       "    <tr>\n",
       "      <th>0</th>\n",
       "      <td>52.5155</td>\n",
       "      <td>Cotegra and Acapella</td>\n",
       "      <td>Low</td>\n",
       "      <td>0.003553</td>\n",
       "      <td>B088Y1</td>\n",
       "      <td>0.9058</td>\n",
       "    </tr>\n",
       "    <tr>\n",
       "      <th>1</th>\n",
       "      <td>54.4489</td>\n",
       "      <td>Cotegra and Acapella</td>\n",
       "      <td>Low</td>\n",
       "      <td>0.003464</td>\n",
       "      <td>B088Y1</td>\n",
       "      <td>0.9058</td>\n",
       "    </tr>\n",
       "    <tr>\n",
       "      <th>2</th>\n",
       "      <td>51.1207</td>\n",
       "      <td>Cotegra and Acapella</td>\n",
       "      <td>Low</td>\n",
       "      <td>0.003456</td>\n",
       "      <td>B088Y1</td>\n",
       "      <td>0.9058</td>\n",
       "    </tr>\n",
       "    <tr>\n",
       "      <th>3</th>\n",
       "      <td>51.6806</td>\n",
       "      <td>Cotegra and Acapella</td>\n",
       "      <td>Low</td>\n",
       "      <td>0.003397</td>\n",
       "      <td>B088Y1</td>\n",
       "      <td>0.9083</td>\n",
       "    </tr>\n",
       "    <tr>\n",
       "      <th>4</th>\n",
       "      <td>45.9235</td>\n",
       "      <td>Cotegra and Acapella</td>\n",
       "      <td>Low</td>\n",
       "      <td>0.003456</td>\n",
       "      <td>B088Y1</td>\n",
       "      <td>0.9083</td>\n",
       "    </tr>\n",
       "    <tr>\n",
       "      <th>5</th>\n",
       "      <td>50.4746</td>\n",
       "      <td>Cotegra and Acapella</td>\n",
       "      <td>Low</td>\n",
       "      <td>0.003487</td>\n",
       "      <td>B088Y1</td>\n",
       "      <td>0.9082</td>\n",
       "    </tr>\n",
       "    <tr>\n",
       "      <th>6</th>\n",
       "      <td>52.2105</td>\n",
       "      <td>Cotegra and Acapella</td>\n",
       "      <td>Low</td>\n",
       "      <td>0.003428</td>\n",
       "      <td>B088Y1</td>\n",
       "      <td>0.9082</td>\n",
       "    </tr>\n",
       "    <tr>\n",
       "      <th>7</th>\n",
       "      <td>53.2683</td>\n",
       "      <td>Cotegra and Acapella</td>\n",
       "      <td>Low</td>\n",
       "      <td>0.003417</td>\n",
       "      <td>B088Y1</td>\n",
       "      <td>0.8964</td>\n",
       "    </tr>\n",
       "    <tr>\n",
       "      <th>8</th>\n",
       "      <td>54.9809</td>\n",
       "      <td>Cotegra and Acapella</td>\n",
       "      <td>Low</td>\n",
       "      <td>0.003419</td>\n",
       "      <td>B088Y1</td>\n",
       "      <td>0.8964</td>\n",
       "    </tr>\n",
       "    <tr>\n",
       "      <th>9</th>\n",
       "      <td>56.7777</td>\n",
       "      <td>Cotegra and Acapella</td>\n",
       "      <td>Low</td>\n",
       "      <td>0.003502</td>\n",
       "      <td>B088Y1</td>\n",
       "      <td>0.8964</td>\n",
       "    </tr>\n",
       "  </tbody>\n",
       "</table>\n",
       "</div>"
      ],
      "text/plain": [
       "     Yield             Treatment Productivity Zone      Area Variety    NDVI\n",
       "0  52.5155  Cotegra and Acapella               Low  0.003553  B088Y1  0.9058\n",
       "1  54.4489  Cotegra and Acapella               Low  0.003464  B088Y1  0.9058\n",
       "2  51.1207  Cotegra and Acapella               Low  0.003456  B088Y1  0.9058\n",
       "3  51.6806  Cotegra and Acapella               Low  0.003397  B088Y1  0.9083\n",
       "4  45.9235  Cotegra and Acapella               Low  0.003456  B088Y1  0.9083\n",
       "5  50.4746  Cotegra and Acapella               Low  0.003487  B088Y1  0.9082\n",
       "6  52.2105  Cotegra and Acapella               Low  0.003428  B088Y1  0.9082\n",
       "7  53.2683  Cotegra and Acapella               Low  0.003417  B088Y1  0.8964\n",
       "8  54.9809  Cotegra and Acapella               Low  0.003419  B088Y1  0.8964\n",
       "9  56.7777  Cotegra and Acapella               Low  0.003502  B088Y1  0.8964"
      ]
     },
     "execution_count": 3,
     "metadata": {},
     "output_type": "execute_result"
    }
   ],
   "source": [
    "agro_data = pd.read_csv(config['agro_data_path'])\n",
    "agro_data.head(10)"
   ]
  },
  {
   "cell_type": "markdown",
   "metadata": {},
   "source": [
    "## Examining the missing values"
   ]
  },
  {
   "cell_type": "code",
   "execution_count": 4,
   "metadata": {},
   "outputs": [
    {
     "data": {
      "text/plain": [
       "Yield                0\n",
       "Treatment            0\n",
       "Productivity Zone    0\n",
       "Area                 0\n",
       "Variety              0\n",
       "NDVI                 0\n",
       "dtype: int64"
      ]
     },
     "execution_count": 4,
     "metadata": {},
     "output_type": "execute_result"
    }
   ],
   "source": [
    "agro_data.isnull().sum()"
   ]
  },
  {
   "cell_type": "code",
   "execution_count": 5,
   "metadata": {},
   "outputs": [
    {
     "name": "stdout",
     "output_type": "stream",
     "text": [
      "percent of missing values in Yieldis 0.0\n",
      "percent of missing values in Treatmentis 0.0\n",
      "percent of missing values in Productivity Zoneis 0.0\n",
      "percent of missing values in Areais 0.0\n",
      "percent of missing values in Varietyis 0.0\n",
      "percent of missing values in NDVIis 0.0\n"
     ]
    }
   ],
   "source": [
    "# Print the percentage of the rows whose feature is missing.\n",
    "columns = agro_data.columns.to_list()\n",
    "for col in columns:\n",
    "    percent_missing = agro_data[col].isnull().sum() * 100 / len(agro_data[col])\n",
    "    print(\"percent of missing values in\",  col +\"is\",percent_missing)"
   ]
  },
  {
   "cell_type": "markdown",
   "metadata": {},
   "source": [
    "**This Data doesn't contain any null values.**"
   ]
  },
  {
   "cell_type": "markdown",
   "metadata": {},
   "source": [
    "## Exploring Categorical Values"
   ]
  },
  {
   "cell_type": "markdown",
   "metadata": {},
   "source": [
    "### Treatment(Fungicides)"
   ]
  },
  {
   "cell_type": "code",
   "execution_count": 6,
   "metadata": {},
   "outputs": [
    {
     "data": {
      "text/plain": [
       "Cotegra and Acapella    13306\n",
       "Cotegra and Priaxor      4306\n",
       "Priaxor                  1245\n",
       "Acapella                 1078\n",
       "None                      839\n",
       "Cotegra                   405\n",
       "Name: Treatment, dtype: int64"
      ]
     },
     "execution_count": 6,
     "metadata": {},
     "output_type": "execute_result"
    }
   ],
   "source": [
    "agro_data['Treatment'].value_counts()"
   ]
  },
  {
   "cell_type": "markdown",
   "metadata": {},
   "source": [
    "**Farmer is using 3 different types of treatments(fungicides)**\n",
    "1. Priaxor\n",
    "2. Acapella\n",
    "3. Cotegra\n",
    "\n",
    "**And, farmer is also using two combinations of these treatments**\n",
    "1. Cotegra and Acapella\n",
    "2. Cotegra and Priaxor\n",
    "\n",
    "**Apart from these treatments, there are some areas where farmer didn't use any kind of treatment.**"
   ]
  },
  {
   "cell_type": "markdown",
   "metadata": {},
   "source": [
    "### Productivity Zone"
   ]
  },
  {
   "cell_type": "code",
   "execution_count": 7,
   "metadata": {},
   "outputs": [
    {
     "data": {
      "text/plain": [
       "Med     9266\n",
       "High    8788\n",
       "Low     3125\n",
       "Name: Productivity Zone, dtype: int64"
      ]
     },
     "execution_count": 7,
     "metadata": {},
     "output_type": "execute_result"
    }
   ],
   "source": [
    "agro_data['Productivity Zone'].value_counts()"
   ]
  },
  {
   "cell_type": "markdown",
   "metadata": {},
   "source": [
    "**Productivity Zone is divided into three categories**\n",
    "\n",
    "1. High\n",
    "2. Medium\n",
    "3. Low"
   ]
  },
  {
   "cell_type": "markdown",
   "metadata": {},
   "source": [
    "### Variety"
   ]
  },
  {
   "cell_type": "code",
   "execution_count": 8,
   "metadata": {},
   "outputs": [
    {
     "data": {
      "text/plain": [
       "B088Y1     16781\n",
       "Katonda     4398\n",
       "Name: Variety, dtype: int64"
      ]
     },
     "execution_count": 8,
     "metadata": {},
     "output_type": "execute_result"
    }
   ],
   "source": [
    "agro_data['Variety'].value_counts()"
   ]
  },
  {
   "cell_type": "code",
   "execution_count": 9,
   "metadata": {},
   "outputs": [
    {
     "name": "stdout",
     "output_type": "stream",
     "text": [
      "Dataset shapes\n",
      "Rows and Columns: (21179, 6)\n",
      "Columns are: ['Yield', 'Treatment', 'Productivity Zone', 'Area', 'Variety', 'NDVI']\n"
     ]
    }
   ],
   "source": [
    "print('Dataset shapes')\n",
    "print(f'Rows and Columns: {agro_data.shape}')\n",
    "print(f'Columns are: {agro_data.columns.to_list()}')"
   ]
  },
  {
   "cell_type": "markdown",
   "metadata": {},
   "source": [
    "## Summary Statistics of the continous variables\n",
    "\n",
    "Summary tells you the detailed statistics such as count(number of rows), mean, standard deviation, minimum, maximum and quantiles(25th, 50th & 7th) of the features."
   ]
  },
  {
   "cell_type": "code",
   "execution_count": 10,
   "metadata": {},
   "outputs": [
    {
     "data": {
      "text/html": [
       "<div>\n",
       "<style scoped>\n",
       "    .dataframe tbody tr th:only-of-type {\n",
       "        vertical-align: middle;\n",
       "    }\n",
       "\n",
       "    .dataframe tbody tr th {\n",
       "        vertical-align: top;\n",
       "    }\n",
       "\n",
       "    .dataframe thead th {\n",
       "        text-align: right;\n",
       "    }\n",
       "</style>\n",
       "<table border=\"1\" class=\"dataframe\">\n",
       "  <thead>\n",
       "    <tr style=\"text-align: right;\">\n",
       "      <th></th>\n",
       "      <th>Yield</th>\n",
       "      <th>Area</th>\n",
       "      <th>NDVI</th>\n",
       "    </tr>\n",
       "  </thead>\n",
       "  <tbody>\n",
       "    <tr>\n",
       "      <th>count</th>\n",
       "      <td>21179.000000</td>\n",
       "      <td>21179.000000</td>\n",
       "      <td>21179.000000</td>\n",
       "    </tr>\n",
       "    <tr>\n",
       "      <th>mean</th>\n",
       "      <td>65.746399</td>\n",
       "      <td>0.003265</td>\n",
       "      <td>0.903644</td>\n",
       "    </tr>\n",
       "    <tr>\n",
       "      <th>std</th>\n",
       "      <td>25.909912</td>\n",
       "      <td>0.000649</td>\n",
       "      <td>0.008686</td>\n",
       "    </tr>\n",
       "    <tr>\n",
       "      <th>min</th>\n",
       "      <td>0.009500</td>\n",
       "      <td>0.000007</td>\n",
       "      <td>0.845900</td>\n",
       "    </tr>\n",
       "    <tr>\n",
       "      <th>25%</th>\n",
       "      <td>59.461850</td>\n",
       "      <td>0.002966</td>\n",
       "      <td>0.898500</td>\n",
       "    </tr>\n",
       "    <tr>\n",
       "      <th>50%</th>\n",
       "      <td>64.518700</td>\n",
       "      <td>0.003358</td>\n",
       "      <td>0.904900</td>\n",
       "    </tr>\n",
       "    <tr>\n",
       "      <th>75%</th>\n",
       "      <td>69.520450</td>\n",
       "      <td>0.003640</td>\n",
       "      <td>0.910100</td>\n",
       "    </tr>\n",
       "    <tr>\n",
       "      <th>max</th>\n",
       "      <td>843.439700</td>\n",
       "      <td>0.010160</td>\n",
       "      <td>0.924600</td>\n",
       "    </tr>\n",
       "  </tbody>\n",
       "</table>\n",
       "</div>"
      ],
      "text/plain": [
       "              Yield          Area          NDVI\n",
       "count  21179.000000  21179.000000  21179.000000\n",
       "mean      65.746399      0.003265      0.903644\n",
       "std       25.909912      0.000649      0.008686\n",
       "min        0.009500      0.000007      0.845900\n",
       "25%       59.461850      0.002966      0.898500\n",
       "50%       64.518700      0.003358      0.904900\n",
       "75%       69.520450      0.003640      0.910100\n",
       "max      843.439700      0.010160      0.924600"
      ]
     },
     "execution_count": 10,
     "metadata": {},
     "output_type": "execute_result"
    }
   ],
   "source": [
    "agro_data.describe()"
   ]
  },
  {
   "cell_type": "markdown",
   "metadata": {},
   "source": [
    "## Understanding NDVI feature\n",
    "\n",
    "It can be seen that NDVI values has a limited range(0.84 - 0.92) in the dataset. It shows that the plants are healthy all over the farming area.\n",
    "\n",
    "Also, when we calculate the correlation of NDVI with the 'Yield' variable, we see that there is a very low correlation."
   ]
  },
  {
   "cell_type": "code",
   "execution_count": 11,
   "metadata": {},
   "outputs": [
    {
     "data": {
      "text/plain": [
       "(0.8459, 0.9246)"
      ]
     },
     "execution_count": 11,
     "metadata": {},
     "output_type": "execute_result"
    }
   ],
   "source": [
    "agro_data['NDVI'].min(), agro_data['NDVI'].max()"
   ]
  },
  {
   "cell_type": "code",
   "execution_count": 12,
   "metadata": {},
   "outputs": [
    {
     "name": "stdout",
     "output_type": "stream",
     "text": [
      "=== Yield, NDVI ===\n",
      "\n",
      "PEARSON'S CORRELATION:=\n",
      "\n",
      "          Yield      NDVI\n",
      "Yield  1.000000  0.037874\n",
      "NDVI   0.037874  1.000000\n",
      "\n",
      "SPEARMAN'S CORRELATION:=\n",
      "\n",
      "          Yield      NDVI\n",
      "Yield  1.000000  0.131491\n",
      "NDVI   0.131491  1.000000\n",
      "\n",
      "\n"
     ]
    }
   ],
   "source": [
    "agro_filter_df = agro_data[['Yield','NDVI']]\n",
    "corr_title = 'Yield, NDVI'\n",
    "print(\"===\",corr_title,\"===\")\n",
    "print(\"\\nPEARSON'S CORRELATION:=\\n\")\n",
    "print(agro_filter_df.corr(method='pearson'))\n",
    "print(\"\\nSPEARMAN'S CORRELATION:=\\n\")\n",
    "print(agro_filter_df.corr(method='spearman'))\n",
    "print(\"\\n\")"
   ]
  },
  {
   "cell_type": "markdown",
   "metadata": {},
   "source": [
    "## Correlation Analysis\n",
    "\n",
    "If we were to predict the Yield quantity using Regression Model then the correlation analysis would be beneficial in deciding the importaant features.\n",
    "\n",
    "Here, correlation analysis using heatmap shows that 'Area' is most negatively correlated feature with the response variable 'Yield'. However, 'NDVI' doesnot shows any kind of relation with the tearget('Yield')."
   ]
  },
  {
   "cell_type": "code",
   "execution_count": 13,
   "metadata": {},
   "outputs": [
    {
     "data": {
      "image/png": "[encoded data removed]",
      "text/plain": [
       "<Figure size 432x288 with 2 Axes>"
      ]
     },
     "metadata": {
      "needs_background": "light"
     },
     "output_type": "display_data"
    }
   ],
   "source": [
    "corr = agro_data.corr()\n",
    "ax = sns.heatmap(\n",
    "    corr, \n",
    "    vmin=-1, vmax=1, center=0,\n",
    "    cmap=sns.diverging_palette(20, 220, n=200),\n",
    "    square=True\n",
    ")\n",
    "ax.set_xticklabels(\n",
    "    ax.get_xticklabels(),\n",
    "    rotation=45,\n",
    "    horizontalalignment='right'\n",
    ");\n",
    "plt.show()"
   ]
  },
  {
   "cell_type": "markdown",
   "metadata": {},
   "source": [
    "# Farmer's Question 1\n",
    "\n",
    "**Farmers have planted multiple varieties in their field to determine if one variety outperforms another. The farmer has heard that some varieties may perform better in good soil (high productivity zones), while others have been bred to perform well in poorer soils (low productivity zones).**"
   ]
  },
  {
   "cell_type": "markdown",
   "metadata": {},
   "source": [
    "### Checking the total area for each productivity zone.\n",
    "\n",
    "Looking at the total area allocated to each productivity zone we can tell that most of the land has medium productivity. The high productivity area is also comparable to medium productive area. However, low productive area is quite small."
   ]
  },
  {
   "cell_type": "code",
   "execution_count": 14,
   "metadata": {},
   "outputs": [
    {
     "data": {
      "text/html": [
       "<div>\n",
       "<style scoped>\n",
       "    .dataframe tbody tr th:only-of-type {\n",
       "        vertical-align: middle;\n",
       "    }\n",
       "\n",
       "    .dataframe tbody tr th {\n",
       "        vertical-align: top;\n",
       "    }\n",
       "\n",
       "    .dataframe thead tr th {\n",
       "        text-align: left;\n",
       "    }\n",
       "\n",
       "    .dataframe thead tr:last-of-type th {\n",
       "        text-align: right;\n",
       "    }\n",
       "</style>\n",
       "<table border=\"1\" class=\"dataframe\">\n",
       "  <thead>\n",
       "    <tr>\n",
       "      <th></th>\n",
       "      <th>Area</th>\n",
       "    </tr>\n",
       "    <tr>\n",
       "      <th></th>\n",
       "      <th>sum</th>\n",
       "    </tr>\n",
       "    <tr>\n",
       "      <th>Productivity Zone</th>\n",
       "      <th></th>\n",
       "    </tr>\n",
       "  </thead>\n",
       "  <tbody>\n",
       "    <tr>\n",
       "      <th>High</th>\n",
       "      <td>28.129640</td>\n",
       "    </tr>\n",
       "    <tr>\n",
       "      <th>Low</th>\n",
       "      <td>10.541325</td>\n",
       "    </tr>\n",
       "    <tr>\n",
       "      <th>Med</th>\n",
       "      <td>30.479925</td>\n",
       "    </tr>\n",
       "  </tbody>\n",
       "</table>\n",
       "</div>"
      ],
      "text/plain": [
       "                        Area\n",
       "                         sum\n",
       "Productivity Zone           \n",
       "High               28.129640\n",
       "Low                10.541325\n",
       "Med                30.479925"
      ]
     },
     "execution_count": 14,
     "metadata": {},
     "output_type": "execute_result"
    }
   ],
   "source": [
    "agro_data.groupby('Productivity Zone').agg({'Area': ['sum']})"
   ]
  },
  {
   "cell_type": "markdown",
   "metadata": {},
   "source": [
    "### Determining which variety performs best\n",
    "\n",
    "Analyzing variety and productivity parameters with yield per area. Yield per area helps us understand the growth independent of the size distribution of the farmer's land. <br>\n",
    "We can easily derive following **insights** from the below line/bar graphs:\n",
    "\n",
    "- \"Katonda\" variety clearly outperforms \"B088Y1\" in every productivity zone. \n",
    "- \"B088Y1\" has very less yield per area in low productivity zone.\n",
    "- \"Katonda\" has highest yield per area in high productivity zone with similar yield in low and medium zones. "
   ]
  },
  {
   "cell_type": "code",
   "execution_count": 15,
   "metadata": {},
   "outputs": [
    {
     "data": {
      "text/html": [
       "<div>\n",
       "<style scoped>\n",
       "    .dataframe tbody tr th:only-of-type {\n",
       "        vertical-align: middle;\n",
       "    }\n",
       "\n",
       "    .dataframe tbody tr th {\n",
       "        vertical-align: top;\n",
       "    }\n",
       "\n",
       "    .dataframe thead th {\n",
       "        text-align: right;\n",
       "    }\n",
       "</style>\n",
       "<table border=\"1\" class=\"dataframe\">\n",
       "  <thead>\n",
       "    <tr style=\"text-align: right;\">\n",
       "      <th></th>\n",
       "      <th>Variety</th>\n",
       "      <th>Productivity Zone</th>\n",
       "      <th>Total Yield</th>\n",
       "      <th>Total Area</th>\n",
       "      <th>Yield Per Area</th>\n",
       "    </tr>\n",
       "  </thead>\n",
       "  <tbody>\n",
       "    <tr>\n",
       "      <th>0</th>\n",
       "      <td>B088Y1</td>\n",
       "      <td>High</td>\n",
       "      <td>572195.3853</td>\n",
       "      <td>27.365726</td>\n",
       "      <td>20909.197766</td>\n",
       "    </tr>\n",
       "    <tr>\n",
       "      <th>1</th>\n",
       "      <td>B088Y1</td>\n",
       "      <td>Low</td>\n",
       "      <td>81165.0102</td>\n",
       "      <td>5.335279</td>\n",
       "      <td>15212.888705</td>\n",
       "    </tr>\n",
       "    <tr>\n",
       "      <th>2</th>\n",
       "      <td>B088Y1</td>\n",
       "      <td>Med</td>\n",
       "      <td>440117.6225</td>\n",
       "      <td>22.497817</td>\n",
       "      <td>19562.680976</td>\n",
       "    </tr>\n",
       "    <tr>\n",
       "      <th>3</th>\n",
       "      <td>Katonda</td>\n",
       "      <td>High</td>\n",
       "      <td>18239.8509</td>\n",
       "      <td>0.763914</td>\n",
       "      <td>23876.850602</td>\n",
       "    </tr>\n",
       "    <tr>\n",
       "      <th>4</th>\n",
       "      <td>Katonda</td>\n",
       "      <td>Low</td>\n",
       "      <td>110823.5943</td>\n",
       "      <td>5.206046</td>\n",
       "      <td>21287.478067</td>\n",
       "    </tr>\n",
       "    <tr>\n",
       "      <th>5</th>\n",
       "      <td>Katonda</td>\n",
       "      <td>Med</td>\n",
       "      <td>169901.5289</td>\n",
       "      <td>7.982108</td>\n",
       "      <td>21285.297010</td>\n",
       "    </tr>\n",
       "  </tbody>\n",
       "</table>\n",
       "</div>"
      ],
      "text/plain": [
       "   Variety Productivity Zone  Total Yield  Total Area  Yield Per Area\n",
       "0   B088Y1              High  572195.3853   27.365726    20909.197766\n",
       "1   B088Y1               Low   81165.0102    5.335279    15212.888705\n",
       "2   B088Y1               Med  440117.6225   22.497817    19562.680976\n",
       "3  Katonda              High   18239.8509    0.763914    23876.850602\n",
       "4  Katonda               Low  110823.5943    5.206046    21287.478067\n",
       "5  Katonda               Med  169901.5289    7.982108    21285.297010"
      ]
     },
     "execution_count": 15,
     "metadata": {},
     "output_type": "execute_result"
    }
   ],
   "source": [
    "variety_analysis = agro_data.groupby(['Variety', 'Productivity Zone']).agg({'Yield':['sum'], 'Area':['sum']}) #.sum()\n",
    "variety_analysis.columns = ['Total Yield', 'Total Area']\n",
    "variety_analysis = variety_analysis.reset_index()\n",
    "variety_analysis['Yield Per Area'] = variety_analysis['Total Yield']/variety_analysis['Total Area']\n",
    "variety_analysis"
   ]
  },
  {
   "cell_type": "code",
   "execution_count": 16,
   "metadata": {},
   "outputs": [
    {
     "data": {
      "text/plain": [
       "<matplotlib.axes._subplots.AxesSubplot at 0x11f2ba3a0>"
      ]
     },
     "execution_count": 16,
     "metadata": {},
     "output_type": "execute_result"
    },
    {
     "data": {
      "image/png": "[encoded data removed]",
      "text/plain": [
       "<Figure size 720x576 with 1 Axes>"
      ]
     },
     "metadata": {
      "needs_background": "light"
     },
     "output_type": "display_data"
    }
   ],
   "source": [
    "plt.figure(figsize = (10,8))\n",
    "sns.lineplot(x=\"Productivity Zone\", y=\"Yield Per Area\", hue=\"Variety\", data=variety_analysis)"
   ]
  },
  {
   "cell_type": "code",
   "execution_count": 17,
   "metadata": {},
   "outputs": [
    {
     "data": {
      "text/plain": [
       "<matplotlib.axes._subplots.AxesSubplot at 0x11f478d90>"
      ]
     },
     "execution_count": 17,
     "metadata": {},
     "output_type": "execute_result"
    },
    {
     "data": {
      "image/png": "[encoded data removed]",
      "text/plain": [
       "<Figure size 720x576 with 1 Axes>"
      ]
     },
     "metadata": {
      "needs_background": "light"
     },
     "output_type": "display_data"
    }
   ],
   "source": [
    "plt.figure(figsize = (10,8))\n",
    "sns.barplot(x=\"Productivity Zone\", y=\"Yield Per Area\", hue=\"Variety\", data=variety_analysis)"
   ]
  },
  {
   "cell_type": "markdown",
   "metadata": {},
   "source": [
    "# Farmer's Question 2"
   ]
  },
  {
   "cell_type": "markdown",
   "metadata": {},
   "source": [
    "**The Farmer also tested 3 different fungicides (treatments) - all claiming to increase yields, but with different mechanisms. So the farmer sprayed strips of either one or a combination of the fungicides in different areas of the field to determine if there was any financial incentive to one (or one combo over another).**"
   ]
  },
  {
   "cell_type": "markdown",
   "metadata": {},
   "source": [
    "### Determining which fungicide gives best yield\n",
    "\n",
    "The question about which fungicide to use depends on what variety of crops are to be grown, it also depends on productivity zone in which crops will be grown in. Hence, we need to do a multivariate analysis to find out the answer to farmer's question.\n",
    "\n",
    "We can easily derive following **insights** from the below line/bar graphs:\n",
    "\n",
    "- Using variety B088Y1\n",
    "  - Growing in <b>High</b> productive area, none of the fungicides should be used.\n",
    "  - Growing in <b>Low or Medium</b> productive areas, Acapella gives the max yield.\n",
    "- Using variety Katonda\n",
    "  - Growing in <b>High or Medium</b> productive areas, combination of <b>Cotegra and Priaxor</b> gives the max yield.\n",
    "  - Growing in <b>Low</b> productive area, combination of <b>Cotegra and Acapella</b> fungicides should be used."
   ]
  },
  {
   "cell_type": "code",
   "execution_count": 18,
   "metadata": {},
   "outputs": [
    {
     "data": {
      "text/html": [
       "<div>\n",
       "<style scoped>\n",
       "    .dataframe tbody tr th:only-of-type {\n",
       "        vertical-align: middle;\n",
       "    }\n",
       "\n",
       "    .dataframe tbody tr th {\n",
       "        vertical-align: top;\n",
       "    }\n",
       "\n",
       "    .dataframe thead th {\n",
       "        text-align: right;\n",
       "    }\n",
       "</style>\n",
       "<table border=\"1\" class=\"dataframe\">\n",
       "  <thead>\n",
       "    <tr style=\"text-align: right;\">\n",
       "      <th></th>\n",
       "      <th>Variety</th>\n",
       "      <th>Productivity Zone</th>\n",
       "      <th>Treatment</th>\n",
       "      <th>Total Yield</th>\n",
       "      <th>Total Area</th>\n",
       "      <th>Yield Per Area</th>\n",
       "    </tr>\n",
       "  </thead>\n",
       "  <tbody>\n",
       "    <tr>\n",
       "      <th>0</th>\n",
       "      <td>B088Y1</td>\n",
       "      <td>High</td>\n",
       "      <td>Acapella</td>\n",
       "      <td>38626.7316</td>\n",
       "      <td>2.203460</td>\n",
       "      <td>17530.037695</td>\n",
       "    </tr>\n",
       "    <tr>\n",
       "      <th>1</th>\n",
       "      <td>B088Y1</td>\n",
       "      <td>High</td>\n",
       "      <td>Cotegra</td>\n",
       "      <td>9846.6013</td>\n",
       "      <td>0.543510</td>\n",
       "      <td>18116.681711</td>\n",
       "    </tr>\n",
       "    <tr>\n",
       "      <th>2</th>\n",
       "      <td>B088Y1</td>\n",
       "      <td>High</td>\n",
       "      <td>Cotegra and Acapella</td>\n",
       "      <td>315652.3469</td>\n",
       "      <td>15.577242</td>\n",
       "      <td>20263.686272</td>\n",
       "    </tr>\n",
       "    <tr>\n",
       "      <th>3</th>\n",
       "      <td>B088Y1</td>\n",
       "      <td>High</td>\n",
       "      <td>Cotegra and Priaxor</td>\n",
       "      <td>131860.5120</td>\n",
       "      <td>5.939484</td>\n",
       "      <td>22200.666442</td>\n",
       "    </tr>\n",
       "    <tr>\n",
       "      <th>4</th>\n",
       "      <td>B088Y1</td>\n",
       "      <td>High</td>\n",
       "      <td>None</td>\n",
       "      <td>31071.2708</td>\n",
       "      <td>1.000032</td>\n",
       "      <td>31070.282765</td>\n",
       "    </tr>\n",
       "    <tr>\n",
       "      <th>5</th>\n",
       "      <td>B088Y1</td>\n",
       "      <td>High</td>\n",
       "      <td>Priaxor</td>\n",
       "      <td>45137.9227</td>\n",
       "      <td>2.101998</td>\n",
       "      <td>21473.816058</td>\n",
       "    </tr>\n",
       "    <tr>\n",
       "      <th>6</th>\n",
       "      <td>B088Y1</td>\n",
       "      <td>Low</td>\n",
       "      <td>Acapella</td>\n",
       "      <td>1976.5683</td>\n",
       "      <td>0.116825</td>\n",
       "      <td>16919.052429</td>\n",
       "    </tr>\n",
       "    <tr>\n",
       "      <th>7</th>\n",
       "      <td>B088Y1</td>\n",
       "      <td>Low</td>\n",
       "      <td>Cotegra and Acapella</td>\n",
       "      <td>68784.4498</td>\n",
       "      <td>4.579405</td>\n",
       "      <td>15020.388848</td>\n",
       "    </tr>\n",
       "    <tr>\n",
       "      <th>8</th>\n",
       "      <td>B088Y1</td>\n",
       "      <td>Low</td>\n",
       "      <td>Cotegra and Priaxor</td>\n",
       "      <td>7339.8503</td>\n",
       "      <td>0.440917</td>\n",
       "      <td>16646.795869</td>\n",
       "    </tr>\n",
       "    <tr>\n",
       "      <th>9</th>\n",
       "      <td>B088Y1</td>\n",
       "      <td>Low</td>\n",
       "      <td>None</td>\n",
       "      <td>1083.1565</td>\n",
       "      <td>0.075952</td>\n",
       "      <td>14261.066200</td>\n",
       "    </tr>\n",
       "    <tr>\n",
       "      <th>10</th>\n",
       "      <td>B088Y1</td>\n",
       "      <td>Low</td>\n",
       "      <td>Priaxor</td>\n",
       "      <td>1980.9853</td>\n",
       "      <td>0.122180</td>\n",
       "      <td>16213.636088</td>\n",
       "    </tr>\n",
       "    <tr>\n",
       "      <th>11</th>\n",
       "      <td>B088Y1</td>\n",
       "      <td>Med</td>\n",
       "      <td>Acapella</td>\n",
       "      <td>22131.8788</td>\n",
       "      <td>1.087505</td>\n",
       "      <td>20351.059351</td>\n",
       "    </tr>\n",
       "    <tr>\n",
       "      <th>12</th>\n",
       "      <td>B088Y1</td>\n",
       "      <td>Med</td>\n",
       "      <td>Cotegra</td>\n",
       "      <td>10218.1417</td>\n",
       "      <td>0.581832</td>\n",
       "      <td>17562.023004</td>\n",
       "    </tr>\n",
       "    <tr>\n",
       "      <th>13</th>\n",
       "      <td>B088Y1</td>\n",
       "      <td>Med</td>\n",
       "      <td>Cotegra and Acapella</td>\n",
       "      <td>280322.0697</td>\n",
       "      <td>14.019989</td>\n",
       "      <td>19994.456608</td>\n",
       "    </tr>\n",
       "    <tr>\n",
       "      <th>14</th>\n",
       "      <td>B088Y1</td>\n",
       "      <td>Med</td>\n",
       "      <td>Cotegra and Priaxor</td>\n",
       "      <td>82666.3925</td>\n",
       "      <td>4.458881</td>\n",
       "      <td>18539.716724</td>\n",
       "    </tr>\n",
       "    <tr>\n",
       "      <th>15</th>\n",
       "      <td>B088Y1</td>\n",
       "      <td>Med</td>\n",
       "      <td>None</td>\n",
       "      <td>21830.8293</td>\n",
       "      <td>1.137632</td>\n",
       "      <td>19189.702562</td>\n",
       "    </tr>\n",
       "    <tr>\n",
       "      <th>16</th>\n",
       "      <td>B088Y1</td>\n",
       "      <td>Med</td>\n",
       "      <td>Priaxor</td>\n",
       "      <td>22948.3105</td>\n",
       "      <td>1.211978</td>\n",
       "      <td>18934.599534</td>\n",
       "    </tr>\n",
       "    <tr>\n",
       "      <th>17</th>\n",
       "      <td>Katonda</td>\n",
       "      <td>High</td>\n",
       "      <td>Cotegra and Acapella</td>\n",
       "      <td>17291.3115</td>\n",
       "      <td>0.740385</td>\n",
       "      <td>23354.483363</td>\n",
       "    </tr>\n",
       "    <tr>\n",
       "      <th>18</th>\n",
       "      <td>Katonda</td>\n",
       "      <td>High</td>\n",
       "      <td>Cotegra and Priaxor</td>\n",
       "      <td>553.1640</td>\n",
       "      <td>0.013514</td>\n",
       "      <td>40932.056652</td>\n",
       "    </tr>\n",
       "    <tr>\n",
       "      <th>19</th>\n",
       "      <td>Katonda</td>\n",
       "      <td>High</td>\n",
       "      <td>Priaxor</td>\n",
       "      <td>395.3754</td>\n",
       "      <td>0.010014</td>\n",
       "      <td>39481.082053</td>\n",
       "    </tr>\n",
       "    <tr>\n",
       "      <th>20</th>\n",
       "      <td>Katonda</td>\n",
       "      <td>Low</td>\n",
       "      <td>Acapella</td>\n",
       "      <td>2573.3811</td>\n",
       "      <td>0.142713</td>\n",
       "      <td>18031.823944</td>\n",
       "    </tr>\n",
       "    <tr>\n",
       "      <th>21</th>\n",
       "      <td>Katonda</td>\n",
       "      <td>Low</td>\n",
       "      <td>Cotegra</td>\n",
       "      <td>1682.6373</td>\n",
       "      <td>0.098043</td>\n",
       "      <td>17162.308017</td>\n",
       "    </tr>\n",
       "    <tr>\n",
       "      <th>22</th>\n",
       "      <td>Katonda</td>\n",
       "      <td>Low</td>\n",
       "      <td>Cotegra and Acapella</td>\n",
       "      <td>65726.6999</td>\n",
       "      <td>2.945325</td>\n",
       "      <td>22315.605598</td>\n",
       "    </tr>\n",
       "    <tr>\n",
       "      <th>23</th>\n",
       "      <td>Katonda</td>\n",
       "      <td>Low</td>\n",
       "      <td>Cotegra and Priaxor</td>\n",
       "      <td>34023.4221</td>\n",
       "      <td>1.625810</td>\n",
       "      <td>20927.057902</td>\n",
       "    </tr>\n",
       "    <tr>\n",
       "      <th>24</th>\n",
       "      <td>Katonda</td>\n",
       "      <td>Low</td>\n",
       "      <td>None</td>\n",
       "      <td>3387.4661</td>\n",
       "      <td>0.200923</td>\n",
       "      <td>16859.490234</td>\n",
       "    </tr>\n",
       "    <tr>\n",
       "      <th>25</th>\n",
       "      <td>Katonda</td>\n",
       "      <td>Low</td>\n",
       "      <td>Priaxor</td>\n",
       "      <td>3429.9878</td>\n",
       "      <td>0.193232</td>\n",
       "      <td>17750.592422</td>\n",
       "    </tr>\n",
       "    <tr>\n",
       "      <th>26</th>\n",
       "      <td>Katonda</td>\n",
       "      <td>Med</td>\n",
       "      <td>Acapella</td>\n",
       "      <td>3291.1237</td>\n",
       "      <td>0.183871</td>\n",
       "      <td>17899.071198</td>\n",
       "    </tr>\n",
       "    <tr>\n",
       "      <th>27</th>\n",
       "      <td>Katonda</td>\n",
       "      <td>Med</td>\n",
       "      <td>Cotegra</td>\n",
       "      <td>3806.9051</td>\n",
       "      <td>0.228886</td>\n",
       "      <td>16632.283250</td>\n",
       "    </tr>\n",
       "    <tr>\n",
       "      <th>28</th>\n",
       "      <td>Katonda</td>\n",
       "      <td>Med</td>\n",
       "      <td>Cotegra and Acapella</td>\n",
       "      <td>127957.2318</td>\n",
       "      <td>5.975510</td>\n",
       "      <td>21413.608154</td>\n",
       "    </tr>\n",
       "    <tr>\n",
       "      <th>29</th>\n",
       "      <td>Katonda</td>\n",
       "      <td>Med</td>\n",
       "      <td>Cotegra and Priaxor</td>\n",
       "      <td>23966.8335</td>\n",
       "      <td>1.057752</td>\n",
       "      <td>22658.262212</td>\n",
       "    </tr>\n",
       "    <tr>\n",
       "      <th>30</th>\n",
       "      <td>Katonda</td>\n",
       "      <td>Med</td>\n",
       "      <td>None</td>\n",
       "      <td>3569.0137</td>\n",
       "      <td>0.206389</td>\n",
       "      <td>17292.679783</td>\n",
       "    </tr>\n",
       "    <tr>\n",
       "      <th>31</th>\n",
       "      <td>Katonda</td>\n",
       "      <td>Med</td>\n",
       "      <td>Priaxor</td>\n",
       "      <td>7310.4211</td>\n",
       "      <td>0.329698</td>\n",
       "      <td>22173.049316</td>\n",
       "    </tr>\n",
       "  </tbody>\n",
       "</table>\n",
       "</div>"
      ],
      "text/plain": [
       "    Variety Productivity Zone             Treatment  Total Yield  Total Area  \\\n",
       "0    B088Y1              High              Acapella   38626.7316    2.203460   \n",
       "1    B088Y1              High               Cotegra    9846.6013    0.543510   \n",
       "2    B088Y1              High  Cotegra and Acapella  315652.3469   15.577242   \n",
       "3    B088Y1              High   Cotegra and Priaxor  131860.5120    5.939484   \n",
       "4    B088Y1              High                  None   31071.2708    1.000032   \n",
       "5    B088Y1              High               Priaxor   45137.9227    2.101998   \n",
       "6    B088Y1               Low              Acapella    1976.5683    0.116825   \n",
       "7    B088Y1               Low  Cotegra and Acapella   68784.4498    4.579405   \n",
       "8    B088Y1               Low   Cotegra and Priaxor    7339.8503    0.440917   \n",
       "9    B088Y1               Low                  None    1083.1565    0.075952   \n",
       "10   B088Y1               Low               Priaxor    1980.9853    0.122180   \n",
       "11   B088Y1               Med              Acapella   22131.8788    1.087505   \n",
       "12   B088Y1               Med               Cotegra   10218.1417    0.581832   \n",
       "13   B088Y1               Med  Cotegra and Acapella  280322.0697   14.019989   \n",
       "14   B088Y1               Med   Cotegra and Priaxor   82666.3925    4.458881   \n",
       "15   B088Y1               Med                  None   21830.8293    1.137632   \n",
       "16   B088Y1               Med               Priaxor   22948.3105    1.211978   \n",
       "17  Katonda              High  Cotegra and Acapella   17291.3115    0.740385   \n",
       "18  Katonda              High   Cotegra and Priaxor     553.1640    0.013514   \n",
       "19  Katonda              High               Priaxor     395.3754    0.010014   \n",
       "20  Katonda               Low              Acapella    2573.3811    0.142713   \n",
       "21  Katonda               Low               Cotegra    1682.6373    0.098043   \n",
       "22  Katonda               Low  Cotegra and Acapella   65726.6999    2.945325   \n",
       "23  Katonda               Low   Cotegra and Priaxor   34023.4221    1.625810   \n",
       "24  Katonda               Low                  None    3387.4661    0.200923   \n",
       "25  Katonda               Low               Priaxor    3429.9878    0.193232   \n",
       "26  Katonda               Med              Acapella    3291.1237    0.183871   \n",
       "27  Katonda               Med               Cotegra    3806.9051    0.228886   \n",
       "28  Katonda               Med  Cotegra and Acapella  127957.2318    5.975510   \n",
       "29  Katonda               Med   Cotegra and Priaxor   23966.8335    1.057752   \n",
       "30  Katonda               Med                  None    3569.0137    0.206389   \n",
       "31  Katonda               Med               Priaxor    7310.4211    0.329698   \n",
       "\n",
       "    Yield Per Area  \n",
       "0     17530.037695  \n",
       "1     18116.681711  \n",
       "2     20263.686272  \n",
       "3     22200.666442  \n",
       "4     31070.282765  \n",
       "5     21473.816058  \n",
       "6     16919.052429  \n",
       "7     15020.388848  \n",
       "8     16646.795869  \n",
       "9     14261.066200  \n",
       "10    16213.636088  \n",
       "11    20351.059351  \n",
       "12    17562.023004  \n",
       "13    19994.456608  \n",
       "14    18539.716724  \n",
       "15    19189.702562  \n",
       "16    18934.599534  \n",
       "17    23354.483363  \n",
       "18    40932.056652  \n",
       "19    39481.082053  \n",
       "20    18031.823944  \n",
       "21    17162.308017  \n",
       "22    22315.605598  \n",
       "23    20927.057902  \n",
       "24    16859.490234  \n",
       "25    17750.592422  \n",
       "26    17899.071198  \n",
       "27    16632.283250  \n",
       "28    21413.608154  \n",
       "29    22658.262212  \n",
       "30    17292.679783  \n",
       "31    22173.049316  "
      ]
     },
     "execution_count": 18,
     "metadata": {},
     "output_type": "execute_result"
    }
   ],
   "source": [
    "treatment_analysis = agro_data.groupby(['Variety', 'Productivity Zone', 'Treatment']).agg({'Yield':['sum'], 'Area':['sum']}) #.sum()\n",
    "treatment_analysis.columns = ['Total Yield', 'Total Area']\n",
    "treatment_analysis = treatment_analysis.reset_index()\n",
    "treatment_analysis['Yield Per Area'] = treatment_analysis['Total Yield']/treatment_analysis['Total Area']\n",
    "treatment_analysis"
   ]
  },
  {
   "cell_type": "code",
   "execution_count": 19,
   "metadata": {},
   "outputs": [
    {
     "data": {
      "text/plain": [
       "<Figure size 2160x2160 with 0 Axes>"
      ]
     },
     "metadata": {},
     "output_type": "display_data"
    },
    {
     "data": {
      "image/png": "[encoded data removed]",
      "text/plain": [
       "<Figure size 1080x720 with 6 Axes>"
      ]
     },
     "metadata": {
      "needs_background": "light"
     },
     "output_type": "display_data"
    }
   ],
   "source": [
    "plt.figure(figsize=(30, 30))\n",
    "g = sns.FacetGrid(treatment_analysis, col=\"Productivity Zone\",  row=\"Variety\", height=5, aspect=1, hue=\"Treatment\", palette=\"Set2\")\n",
    "g = g.map(sns.barplot, \"Treatment\", \"Yield Per Area\", edgecolor=\"w\", order=treatment_analysis['Treatment'].unique())\n",
    "g.set_xticklabels(rotation=90)\n",
    "plt.show()"
   ]
  },
  {
   "cell_type": "markdown",
   "metadata": {},
   "source": [
    "## Suggestion to Farmer\n",
    "\n",
    "- As discussed above, farmer can maximize the Yield by growing Katonda variety.\n",
    "- They can also use combination of Cotegra and Priaxor fungicide in High productivity zone to keep Katonda plants healthy for better yield.\n",
    "- To grow B088Y1 variety in high productivity zone, farmer should not used any fungicide to get best yield.\n",
    "- In medium and low productivity zones, the yield for all the fungicides and their combinations is very similar. If fungicided are expensive, then farmer can save money by not using them and still have a very similar yield.  "
   ]
  }
 ],
 "metadata": {
  "kernelspec": {
   "display_name": "Python 3",
   "language": "python",
   "name": "python3"
  },
  "language_info": {
   "codemirror_mode": {
    "name": "ipython",
    "version": 3
   },
   "file_extension": ".py",
   "mimetype": "text/x-python",
   "name": "python",
   "nbconvert_exporter": "python",
   "pygments_lexer": "ipython3",
   "version": "3.7.6"
  }
 },
 "nbformat": 4,
 "nbformat_minor": 4
}
